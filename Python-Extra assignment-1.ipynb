{
 "cells": [
  {
   "cell_type": "code",
   "execution_count": 1,
   "id": "87ed3db4-9600-4214-9ed8-b9b741e0b192",
   "metadata": {},
   "outputs": [
    {
     "name": "stdout",
     "output_type": "stream",
     "text": [
      "HOPE AI\n"
     ]
    }
   ],
   "source": [
    "print(\"HOPE AI\")"
   ]
  },
  {
   "cell_type": "code",
   "execution_count": 52,
   "id": "7cec5022-d40a-41ab-9d4c-c3b6e0b7cf3d",
   "metadata": {},
   "outputs": [
    {
     "name": "stdin",
     "output_type": "stream",
     "text": [
      "Enter your institute name?: HOPE AI\n"
     ]
    }
   ],
   "source": [
    "Inst_name=input(\"Enter your institute name?:\")"
   ]
  },
  {
   "cell_type": "code",
   "execution_count": 11,
   "id": "8a2e6a0e-64e9-4403-8f51-ee2acadcebee",
   "metadata": {},
   "outputs": [
    {
     "name": "stdin",
     "output_type": "stream",
     "text": [
      "Enter you name: Raj\n",
      "Enter your age: 15\n",
      "Enter you school name: Guru school\n",
      "Enter your degree: B.E.CSE\n"
     ]
    }
   ],
   "source": [
    "Name=input(\"Enter you name:\")\n",
    "Age=int(input(\"Enter your age:\"))\n",
    "School=input(\"Enter you school name:\")\n",
    "Degree=input(\"Enter your degree:\")"
   ]
  },
  {
   "cell_type": "code",
   "execution_count": null,
   "id": "15df65e6-f1da-4cf0-b36e-5f83277d7482",
   "metadata": {},
   "outputs": [],
   "source": [
    "#Addition"
   ]
  },
  {
   "cell_type": "code",
   "execution_count": 14,
   "id": "0ef12343-9b76-4a01-ba6e-68160df908ac",
   "metadata": {},
   "outputs": [
    {
     "name": "stdout",
     "output_type": "stream",
     "text": [
      "a= 43\n",
      "b= 34\n",
      "add= 77\n"
     ]
    }
   ],
   "source": [
    "a=43\n",
    "print(\"a=\", a)\n",
    "b=34\n",
    "print(\"b=\", b)\n",
    "add=a+b\n",
    "print(\"add=\", add)"
   ]
  },
  {
   "cell_type": "code",
   "execution_count": null,
   "id": "c6a81a28-6c0e-4c44-85e9-999350fa9a6c",
   "metadata": {},
   "outputs": [],
   "source": [
    "#Subtraction"
   ]
  },
  {
   "cell_type": "code",
   "execution_count": 15,
   "id": "16242dbb-17a5-41e5-9c74-408f6a4e7b86",
   "metadata": {},
   "outputs": [
    {
     "name": "stdout",
     "output_type": "stream",
     "text": [
      "a= 43\n",
      "b= 34\n",
      "Sub= 9\n"
     ]
    }
   ],
   "source": [
    "a=43\n",
    "print(\"a=\", a)\n",
    "b=34\n",
    "print(\"b=\", b)\n",
    "Sub=a-b\n",
    "print(\"Sub=\", Sub)"
   ]
  },
  {
   "cell_type": "code",
   "execution_count": null,
   "id": "4831f070-4ddf-4f55-af7b-3bb8c0771cf5",
   "metadata": {},
   "outputs": [],
   "source": [
    "#Multiplication"
   ]
  },
  {
   "cell_type": "code",
   "execution_count": 17,
   "id": "cc5eeb00-c59c-4f37-b593-db811d0d2668",
   "metadata": {},
   "outputs": [
    {
     "name": "stdout",
     "output_type": "stream",
     "text": [
      "a= 63\n",
      "b= 97\n",
      "Mul= 6111\n"
     ]
    }
   ],
   "source": [
    "a=63\n",
    "print(\"a=\", a)\n",
    "b=97\n",
    "print(\"b=\", b)\n",
    "Mul=a*b\n",
    "print(\"Mul=\", Mul)"
   ]
  },
  {
   "cell_type": "code",
   "execution_count": 18,
   "id": "399c2380-9448-420e-93bd-e09b0fc9e7bb",
   "metadata": {},
   "outputs": [],
   "source": [
    "#Division"
   ]
  },
  {
   "cell_type": "code",
   "execution_count": 20,
   "id": "16a45b58-71a7-4c74-a560-c1fcece1a401",
   "metadata": {},
   "outputs": [
    {
     "name": "stdout",
     "output_type": "stream",
     "text": [
      "a= 76\n",
      "b= 31\n",
      "Float Div= 2.4516129032258065\n"
     ]
    }
   ],
   "source": [
    "a=76\n",
    "print(\"a=\", a)\n",
    "b=31\n",
    "print(\"b=\", b)\n",
    "Div=a/b\n",
    "print(\"Float Div=\", Div)"
   ]
  },
  {
   "cell_type": "code",
   "execution_count": 21,
   "id": "a5ffc67f-3709-434d-b36d-13445dc98f4a",
   "metadata": {},
   "outputs": [],
   "source": [
    "#Floor Division"
   ]
  },
  {
   "cell_type": "code",
   "execution_count": 23,
   "id": "3b6f50a8-fb34-445a-aece-7e8a799161da",
   "metadata": {},
   "outputs": [
    {
     "name": "stdout",
     "output_type": "stream",
     "text": [
      "a= 76\n",
      "b= 31\n",
      "Floor Div= 2\n"
     ]
    }
   ],
   "source": [
    "a=76\n",
    "print(\"a=\", a)\n",
    "b=31\n",
    "print(\"b=\", b)\n",
    "Div=a//b\n",
    "print(\"Floor Div=\", Div)"
   ]
  },
  {
   "cell_type": "code",
   "execution_count": 24,
   "id": "c5a5d6db-d1e5-43e0-a782-9516fe354343",
   "metadata": {},
   "outputs": [],
   "source": [
    "#Modulo"
   ]
  },
  {
   "cell_type": "code",
   "execution_count": 25,
   "id": "57889133-2f62-4611-8147-a5c6fbdcd662",
   "metadata": {},
   "outputs": [
    {
     "name": "stdout",
     "output_type": "stream",
     "text": [
      "a= 76\n",
      "b= 31\n",
      "Modulo= 14\n"
     ]
    }
   ],
   "source": [
    "a=76\n",
    "print(\"a=\", a)\n",
    "b=31\n",
    "print(\"b=\", b)\n",
    "Mod=a%b\n",
    "print(\"Modulo=\", Mod)"
   ]
  },
  {
   "cell_type": "code",
   "execution_count": 26,
   "id": "736f8388-0eb7-4dcf-a05b-8c8c72ace6fb",
   "metadata": {},
   "outputs": [],
   "source": [
    "#Power"
   ]
  },
  {
   "cell_type": "code",
   "execution_count": 50,
   "id": "5e02e07e-c92f-44e4-b10f-69ca8c116467",
   "metadata": {},
   "outputs": [
    {
     "name": "stdout",
     "output_type": "stream",
     "text": [
      "a= 4\n",
      "b= 4\n",
      "Power= 256\n"
     ]
    }
   ],
   "source": [
    "a=4\n",
    "print(\"a=\", a)\n",
    "b=4\n",
    "print(\"b=\", b)\n",
    "pow=a**b\n",
    "print(\"Power=\", pow)"
   ]
  },
  {
   "cell_type": "code",
   "execution_count": null,
   "id": "d5ba25e1-1a4b-45b5-8951-5f21d636d8ad",
   "metadata": {},
   "outputs": [],
   "source": []
  }
 ],
 "metadata": {
  "kernelspec": {
   "display_name": "Python 3 (ipykernel)",
   "language": "python",
   "name": "python3"
  },
  "language_info": {
   "codemirror_mode": {
    "name": "ipython",
    "version": 3
   },
   "file_extension": ".py",
   "mimetype": "text/x-python",
   "name": "python",
   "nbconvert_exporter": "python",
   "pygments_lexer": "ipython3",
   "version": "3.12.4"
  }
 },
 "nbformat": 4,
 "nbformat_minor": 5
}
