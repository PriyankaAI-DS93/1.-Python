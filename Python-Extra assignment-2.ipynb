{
 "cells": [
  {
   "cell_type": "code",
   "execution_count": 2,
   "id": "0e4f6780-69e1-476b-9057-f7875584324e",
   "metadata": {},
   "outputs": [],
   "source": [
    "#print 0 to 20 using range"
   ]
  },
  {
   "cell_type": "code",
   "execution_count": 5,
   "id": "c0e32edf-46dc-4381-9bda-ca0abf6e5188",
   "metadata": {},
   "outputs": [
    {
     "name": "stdout",
     "output_type": "stream",
     "text": [
      "0\n",
      "1\n",
      "2\n",
      "3\n",
      "4\n",
      "5\n",
      "6\n",
      "7\n",
      "8\n",
      "9\n",
      "10\n",
      "11\n",
      "12\n",
      "13\n",
      "14\n",
      "15\n",
      "16\n",
      "17\n",
      "18\n",
      "19\n"
     ]
    }
   ],
   "source": [
    "range(0, 20)\n",
    "for num in range(0, 20):\n",
    "    print (num)"
   ]
  },
  {
   "cell_type": "code",
   "execution_count": 9,
   "id": "f8222a20-9601-4461-8999-0badf967f2db",
   "metadata": {},
   "outputs": [],
   "source": [
    "#print range 10 to 20"
   ]
  },
  {
   "cell_type": "code",
   "execution_count": 11,
   "id": "cf71a7fa-f2bd-4cfd-96e5-6566e4fe82d1",
   "metadata": {},
   "outputs": [
    {
     "name": "stdout",
     "output_type": "stream",
     "text": [
      "10\n",
      "11\n",
      "12\n",
      "13\n",
      "14\n",
      "15\n",
      "16\n",
      "17\n",
      "18\n",
      "19\n"
     ]
    }
   ],
   "source": [
    "for num in range(10, 20):\n",
    "    print (num)"
   ]
  },
  {
   "cell_type": "code",
   "execution_count": 12,
   "id": "b9e18a28-a77d-4fc4-99e5-cbe5637d3ce6",
   "metadata": {},
   "outputs": [],
   "source": [
    "#print no of items in the list using len"
   ]
  },
  {
   "cell_type": "code",
   "execution_count": 3,
   "id": "f8d9f2c9-c885-4880-8db1-89f19f5b2ef2",
   "metadata": {},
   "outputs": [
    {
     "name": "stdout",
     "output_type": "stream",
     "text": [
      "[10, 20, 14, 55, 43, 87, 76]\n",
      "Number of item in the List2: 7\n"
     ]
    }
   ],
   "source": [
    "lists=[10, 20, 14, 55, 43, 87, 76]\n",
    "x=len(lists)\n",
    "print(lists)\n",
    "print(\"Number of item in the List2:\", x)"
   ]
  },
  {
   "cell_type": "code",
   "execution_count": 19,
   "id": "2ce3e875-6323-4969-92cf-b581d8ae56f0",
   "metadata": {},
   "outputs": [],
   "source": [
    "#Artificial Intelligence"
   ]
  },
  {
   "cell_type": "code",
   "execution_count": 28,
   "id": "b2d8d9a8-2906-47ef-98ae-3f43b78e55c0",
   "metadata": {},
   "outputs": [
    {
     "name": "stdout",
     "output_type": "stream",
     "text": [
      "Artificial Intelligence\n",
      "A\n",
      "r\n",
      "t\n",
      "i\n",
      "c\n",
      "i\n",
      "a\n",
      "l\n",
      "I\n",
      "n\n",
      "t\n",
      "e\n",
      "l\n",
      "l\n",
      "i\n",
      "g\n",
      "e\n",
      "n\n",
      "c\n",
      "e\n"
     ]
    }
   ],
   "source": [
    "print(\"Artificial Intelligence\")\n",
    "Name = 'ArticialIntelligence'\n",
    "len(Name)\n",
    "for temp in range(len(Name)):\n",
    "    print(Name[temp])"
   ]
  },
  {
   "cell_type": "code",
   "execution_count": 1,
   "id": "0ad68393-2b2a-4826-b203-6cb095f0ce68",
   "metadata": {},
   "outputs": [
    {
     "name": "stdin",
     "output_type": "stream",
     "text": [
      "-Your Name- Priyanka\n",
      "-Your Age- 30\n",
      "-Your Profession- Process Associate\n"
     ]
    }
   ],
   "source": [
    "name=input(\"-Your Name-\")\n",
    "age=int(input(\"-Your Age-\"))\n",
    "Profession=input(\"-Your Profession-\")"
   ]
  },
  {
   "cell_type": "code",
   "execution_count": 1,
   "id": "cce70e21-765f-40e8-9591-4199eb8dcb87",
   "metadata": {},
   "outputs": [],
   "source": [
    "#tuples"
   ]
  },
  {
   "cell_type": "code",
   "execution_count": 2,
   "id": "e6818e87-9164-4651-9567-8867ffff8f10",
   "metadata": {},
   "outputs": [
    {
     "name": "stdout",
     "output_type": "stream",
     "text": [
      "(1, 'Welcome', 2, 'Hope')\n"
     ]
    }
   ],
   "source": [
    "tuple=(1, 'Welcome', 2, 'Hope')\n",
    "print(tuple)"
   ]
  },
  {
   "cell_type": "code",
   "execution_count": 5,
   "id": "c9874f50-a510-4dfe-a321-500229f0b9af",
   "metadata": {},
   "outputs": [
    {
     "name": "stdout",
     "output_type": "stream",
     "text": [
      "((0, 1, 2, 3), ('python', 'HOPE'))\n"
     ]
    }
   ],
   "source": [
    "tuple1=(0, 1, 2, 3)\n",
    "tuple2=('python', 'HOPE')\n",
    "tuple3=(tuple1, tuple2)\n",
    "print(tuple3)"
   ]
  },
  {
   "cell_type": "code",
   "execution_count": 9,
   "id": "6286cf04-4f3c-4f1c-815d-9765ce1c4d75",
   "metadata": {},
   "outputs": [],
   "source": [
    "Lists=20, 10, 16, 19, 25, 1, 276, 188"
   ]
  },
  {
   "cell_type": "code",
   "execution_count": 1,
   "id": "ac08ec55-36d6-4faf-b338-a9fddbac4643",
   "metadata": {},
   "outputs": [
    {
     "name": "stdout",
     "output_type": "stream",
     "text": [
      "19 is odd\n",
      "25 is odd\n",
      "1 is odd\n"
     ]
    }
   ],
   "source": [
    "Lists=20, 10, 16, 19, 25, 1, 276, 188\n",
    "for num in Lists:\n",
    "    if(num%2==1):\n",
    "        print(num, \"is odd\")"
   ]
  },
  {
   "cell_type": "code",
   "execution_count": 2,
   "id": "8041e8a9-2f6f-479d-b42c-b324fd192e69",
   "metadata": {},
   "outputs": [
    {
     "name": "stdout",
     "output_type": "stream",
     "text": [
      "20 is even\n",
      "10 is even\n",
      "16 is even\n",
      "276 is even\n",
      "188 is even\n"
     ]
    }
   ],
   "source": [
    "Lists=20, 10, 16, 19, 25, 1, 276, 188\n",
    "for num in Lists:\n",
    "    if(num%2==0):\n",
    "        print(num, \"is even\")\n"
   ]
  },
  {
   "cell_type": "code",
   "execution_count": null,
   "id": "ee27dc66-ebe3-4bff-b5f2-dd099be6fd57",
   "metadata": {},
   "outputs": [],
   "source": []
  }
 ],
 "metadata": {
  "kernelspec": {
   "display_name": "Python 3 (ipykernel)",
   "language": "python",
   "name": "python3"
  },
  "language_info": {
   "codemirror_mode": {
    "name": "ipython",
    "version": 3
   },
   "file_extension": ".py",
   "mimetype": "text/x-python",
   "name": "python",
   "nbconvert_exporter": "python",
   "pygments_lexer": "ipython3",
   "version": "3.12.4"
  }
 },
 "nbformat": 4,
 "nbformat_minor": 5
}
