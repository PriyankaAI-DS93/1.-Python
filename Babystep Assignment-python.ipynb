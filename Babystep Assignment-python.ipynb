{
 "cells": [
  {
   "cell_type": "code",
   "execution_count": 1,
   "id": "790a0745-aea0-4a00-a316-c36b4a74423f",
   "metadata": {},
   "outputs": [
    {
     "name": "stdout",
     "output_type": "stream",
     "text": [
      "Welcome to Assignment-1\n"
     ]
    }
   ],
   "source": [
    "print(\"Welcome to Assignment-1\")"
   ]
  },
  {
   "cell_type": "code",
   "execution_count": 2,
   "id": "bb4bb674-f7ea-4f29-b43e-c159245b7306",
   "metadata": {},
   "outputs": [
    {
     "name": "stdout",
     "output_type": "stream",
     "text": [
      "Num1= 10\n",
      "Num2= 30\n",
      "Add= 40\n"
     ]
    }
   ],
   "source": [
    "num1=10\n",
    "print(\"Num1=\", num1)\n",
    "num2=30\n",
    "print(\"Num2=\", num2)\n",
    "add=num1+num2\n",
    "print(\"Add=\", add)"
   ]
  },
  {
   "cell_type": "code",
   "execution_count": 1,
   "id": "e13a0237-7364-456f-aff9-6c5b7fa00dc2",
   "metadata": {},
   "outputs": [
    {
     "name": "stdin",
     "output_type": "stream",
     "text": [
      "Enter the BMI index 34\n"
     ]
    }
   ],
   "source": [
    "Bmi=int(input(\"Enter the BMI index\"))\n"
   ]
  },
  {
   "cell_type": "code",
   "execution_count": 2,
   "id": "6e2d1bce-d30a-4532-a4c1-47b311938444",
   "metadata": {},
   "outputs": [
    {
     "name": "stdout",
     "output_type": "stream",
     "text": [
      "Over weight\n"
     ]
    }
   ],
   "source": [
    "if(Bmi<18):\n",
    "    print(\"Under weight\")\n",
    "elif(Bmi<30):\n",
    "    print(\"Normal weight\")\n",
    "else:\n",
    "    print(\"Over weight\")"
   ]
  },
  {
   "cell_type": "code",
   "execution_count": null,
   "id": "b1558238-13dd-41de-bffa-b0ef42deedef",
   "metadata": {},
   "outputs": [],
   "source": []
  }
 ],
 "metadata": {
  "kernelspec": {
   "display_name": "Python 3 (ipykernel)",
   "language": "python",
   "name": "python3"
  },
  "language_info": {
   "codemirror_mode": {
    "name": "ipython",
    "version": 3
   },
   "file_extension": ".py",
   "mimetype": "text/x-python",
   "name": "python",
   "nbconvert_exporter": "python",
   "pygments_lexer": "ipython3",
   "version": "3.12.4"
  }
 },
 "nbformat": 4,
 "nbformat_minor": 5
}
