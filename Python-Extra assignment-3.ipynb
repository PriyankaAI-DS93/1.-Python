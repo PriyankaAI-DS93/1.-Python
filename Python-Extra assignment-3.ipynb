{
 "cells": [
  {
   "cell_type": "code",
   "execution_count": 1,
   "id": "d26537eb-b834-407e-9fd6-da712f5fcadc",
   "metadata": {},
   "outputs": [],
   "source": [
    "#print correct if i==0"
   ]
  },
  {
   "cell_type": "code",
   "execution_count": 24,
   "id": "5f5da210-a68c-4aa4-95d4-8d8640dd39e2",
   "metadata": {},
   "outputs": [
    {
     "name": "stdout",
     "output_type": "stream",
     "text": [
      "value: 10\n",
      "Correct\n"
     ]
    }
   ],
   "source": [
    "i=10\n",
    "print(\"value:\", i)\n",
    "if i==10:\n",
    "    print(\"Correct\")\n",
    "else:\n",
    "    print(\"Wrong\")"
   ]
  },
  {
   "cell_type": "code",
   "execution_count": 2,
   "id": "defc0223-1b72-41a1-ac7c-f868f709aca4",
   "metadata": {},
   "outputs": [],
   "source": [
    "#check the password using if amd else"
   ]
  },
  {
   "cell_type": "code",
   "execution_count": 7,
   "id": "4f852550-8677-4bc4-9042-203b3640fb61",
   "metadata": {},
   "outputs": [
    {
     "name": "stdin",
     "output_type": "stream",
     "text": [
      "Enter the password: HOPE@123\n"
     ]
    },
    {
     "name": "stdout",
     "output_type": "stream",
     "text": [
      "Correct\n"
     ]
    }
   ],
   "source": [
    "password=input(\"Enter the password:\")\n",
    "if password==\"HOPE@123\":\n",
    "    print(\"Correct\")\n",
    "else:\n",
    "    print(\"Wrong\")"
   ]
  },
  {
   "cell_type": "code",
   "execution_count": 9,
   "id": "677baf9b-e540-4289-b72f-8fc96b2386d2",
   "metadata": {},
   "outputs": [],
   "source": [
    "#Category the people by their age"
   ]
  },
  {
   "cell_type": "code",
   "execution_count": 18,
   "id": "6c353dde-c3a1-46c2-8b0e-180cd2ec0f1c",
   "metadata": {},
   "outputs": [
    {
     "name": "stdout",
     "output_type": "stream",
     "text": [
      "age: 20\n",
      "Adult\n"
     ]
    }
   ],
   "source": [
    "age=20\n",
    "print(\"age:\", age)\n",
    "if age<18:\n",
    "    print(\"Children\")\n",
    "elif age<35:\n",
    "    print(\"Adult\")\n",
    "elif age<60:\n",
    "    print(\"citizen\")\n",
    "else:\n",
    "    print(\"Senior citizen\")"
   ]
  },
  {
   "cell_type": "code",
   "execution_count": 1,
   "id": "f51e47b6-027c-4e3a-9477-eadcf557452a",
   "metadata": {},
   "outputs": [],
   "source": [
    "#given number is positive or negative"
   ]
  },
  {
   "cell_type": "code",
   "execution_count": 3,
   "id": "f6196d9c-b38c-49f0-8219-790f4d7ddbe2",
   "metadata": {},
   "outputs": [
    {
     "name": "stdin",
     "output_type": "stream",
     "text": [
      "Enter the number: 1\n"
     ]
    },
    {
     "name": "stdout",
     "output_type": "stream",
     "text": [
      "No is positive\n"
     ]
    }
   ],
   "source": [
    "num=int(input(\"Enter the number:\"))\n",
    "if num>0:\n",
    "    print(\"No is positive\")\n",
    "else:\n",
    "    print(\"No is negative\")\n",
    "        \n",
    "        "
   ]
  },
  {
   "cell_type": "code",
   "execution_count": 4,
   "id": "247978c8-f41b-443f-bc34-7980a9b38177",
   "metadata": {},
   "outputs": [],
   "source": [
    "#check whether the given number is divisible by 5"
   ]
  },
  {
   "cell_type": "code",
   "execution_count": 12,
   "id": "173ce338-7336-4c7a-93ee-92793f907f2b",
   "metadata": {},
   "outputs": [
    {
     "name": "stdin",
     "output_type": "stream",
     "text": [
      "Enter the number to check: 22\n"
     ]
    },
    {
     "name": "stdout",
     "output_type": "stream",
     "text": [
      "No is not divisible by 5\n"
     ]
    }
   ],
   "source": [
    "Num=int(input(\"Enter the number to check:\"))\n",
    "if Num%5==0:\n",
    "    print(\"No is divisible by 5\")\n",
    "else:\n",
    "    print(\"No is not divisible by 5\")"
   ]
  },
  {
   "cell_type": "code",
   "execution_count": null,
   "id": "40a1f10e-4024-49a9-9170-71178e0aa482",
   "metadata": {},
   "outputs": [],
   "source": []
  }
 ],
 "metadata": {
  "kernelspec": {
   "display_name": "Python 3 (ipykernel)",
   "language": "python",
   "name": "python3"
  },
  "language_info": {
   "codemirror_mode": {
    "name": "ipython",
    "version": 3
   },
   "file_extension": ".py",
   "mimetype": "text/x-python",
   "name": "python",
   "nbconvert_exporter": "python",
   "pygments_lexer": "ipython3",
   "version": "3.12.4"
  }
 },
 "nbformat": 4,
 "nbformat_minor": 5
}
